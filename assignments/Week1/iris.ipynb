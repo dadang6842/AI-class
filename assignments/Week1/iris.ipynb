{
 "cells": [
  {
   "cell_type": "code",
   "execution_count": 24,
   "id": "7a06eaf5-9ab2-49cf-87ca-35bbba0b0d89",
   "metadata": {},
   "outputs": [],
   "source": [
    "# sklearn(Scikit-learn) - 파이썬 머신러닝 라이브리리\n",
    "import pandas as pd\n",
    "from sklearn.model_selection import train_test_split # 데이터를 train, test로 나누는 데 사용됨\n",
    "from sklearn.preprocessing import StandardScaler # 데이터를 표준화하는 데 사용됨\n",
    "from sklearn.tree import DecisionTreeClassifier # 결정 트리 모델을 학습시키는 데 사용됨\n",
    "from sklearn.ensemble import RandomForestClassifier # 랜덤 포레스트\n",
    "from sklearn.svm import SVC # 서포트 벡터 머신\n",
    "from sklearn.linear_model import LogisticRegression # 로지스틱 회귀 모델\n",
    "from sklearn.metrics import accuracy_score # 모델의 예측 성능 평가"
   ]
  },
  {
   "cell_type": "code",
   "execution_count": 25,
   "id": "2ebb1c8d-7f33-453d-94d1-814a84778cca",
   "metadata": {},
   "outputs": [
    {
     "name": "stdout",
     "output_type": "stream",
     "text": [
      "   SepalLength  SepalWidth  PetalLength  PetalWidth         Name\n",
      "0          5.1         3.5          1.4         0.2  Iris-setosa\n",
      "1          4.9         3.0          1.4         0.2  Iris-setosa\n",
      "2          4.7         3.2          1.3         0.2  Iris-setosa\n",
      "3          4.6         3.1          1.5         0.2  Iris-setosa\n",
      "4          5.0         3.6          1.4         0.2  Iris-setosa\n",
      "Index(['SepalLength', 'SepalWidth', 'PetalLength', 'PetalWidth', 'Name'], dtype='object')\n"
     ]
    }
   ],
   "source": [
    "# 1. 데이터 로드\n",
    "# 붓꽃 데이터 CSV 파일 읽기\n",
    "file_path = \"C:/iris.csv\"\n",
    "df = pd.read_csv(file_path) # pandas.DataFrame 타입을 반환(2차원 데이터 구조)\n",
    "\n",
    "# 데이터 프레임 확인\n",
    "print(df.head()) # 처음 5개의 행 반환\n",
    "print(df.columns) # 열 이름 확인, Index 객체 반환"
   ]
  },
  {
   "cell_type": "code",
   "execution_count": 26,
   "id": "2ed573b8-ccc3-4b42-b4e6-ad28355ab4b2",
   "metadata": {},
   "outputs": [],
   "source": [
    "# 2. 데이터 분할\n",
    "x = df.drop(columns=['Name']) # label인 'Name' 열을 제외한 열들을 포함시킴\n",
    "y = df['Name'] # 'Name' 열 선택\n",
    "x_train, x_test, y_train, y_test = train_test_split(x, y, test_size=0.2, random_state=42) # test_size -> 테스트 데이터의 비율, random_state -> 난수 시드(같은 데이터 분할을 위해 사용)"
   ]
  },
  {
   "cell_type": "code",
   "execution_count": 27,
   "id": "edf2abae-307f-4f38-bcd2-cb23cca900ad",
   "metadata": {},
   "outputs": [],
   "source": [
    "# 3. 데이터 정규화\n",
    "scaler = StandardScaler()\n",
    "x_train = scaler.fit_transform(x_train) # train 데이터의 평균과 표준편차를 계산하고 변환\n",
    "x_test = scaler.transform(x_test) # test 데이터를 변환 -> train 데이터에서 구한 평균과 표준편차를 그대로 사용"
   ]
  },
  {
   "cell_type": "code",
   "execution_count": 28,
   "id": "6702b3dc-c06d-4b6b-90a6-4e0d3a9a0922",
   "metadata": {},
   "outputs": [
    {
     "name": "stdout",
     "output_type": "stream",
     "text": [
      "Decision Tree Accuracy: 1.0000\n"
     ]
    }
   ],
   "source": [
    "# 4. 결정 트리 학습 및 평가\n",
    "dt_model = DecisionTreeClassifier()\n",
    "dt_model.fit(x_train, y_train) # 학습\n",
    "dt_pred = dt_model.predict(x_test) # 예측\n",
    "dt_accuracy = accuracy_score(y_test, dt_pred) # 정답률\n",
    "print(f\"Decision Tree Accuracy: {dt_accuracy:.4f}\")"
   ]
  },
  {
   "cell_type": "code",
   "execution_count": 29,
   "id": "de4390cb-c5ee-4a7e-b848-b615335a2cee",
   "metadata": {},
   "outputs": [
    {
     "name": "stdout",
     "output_type": "stream",
     "text": [
      "Random Forest Accuracy: 1.0000\n"
     ]
    }
   ],
   "source": [
    "# 5. 랜덤 포레스트 학습 및 평가\n",
    "rf_model = RandomForestClassifier()\n",
    "rf_model.fit(x_train, y_train)\n",
    "rf_pred = rf_model.predict(x_test)\n",
    "rf_accuracy = accuracy_score(y_test, rf_pred)\n",
    "print(f\"Random Forest Accuracy: {rf_accuracy:.4f}\")"
   ]
  },
  {
   "cell_type": "code",
   "execution_count": 30,
   "id": "b4df6299-64f2-4f18-b45f-0ed700cada16",
   "metadata": {},
   "outputs": [
    {
     "name": "stdout",
     "output_type": "stream",
     "text": [
      "SVM Accuracy: 1.0000\n"
     ]
    }
   ],
   "source": [
    "# 6. SVM 학습 및 평가\n",
    "svm_model = SVC()\n",
    "svm_model.fit(x_train, y_train)\n",
    "svm_pred = svm_model.predict(x_test)\n",
    "svm_accuracy = accuracy_score(y_test, svm_pred)\n",
    "print(f\"SVM Accuracy: {svm_accuracy:.4f}\")"
   ]
  },
  {
   "cell_type": "code",
   "execution_count": 31,
   "id": "718b3cbd-3fed-4f46-9b6d-b5792926f5b5",
   "metadata": {},
   "outputs": [
    {
     "name": "stdout",
     "output_type": "stream",
     "text": [
      "Logistic Regression Accuracy: 1.0000\n"
     ]
    }
   ],
   "source": [
    "# 7. 로지스틱 회귀 학습 및 평가\n",
    "lr_model = LogisticRegression(max_iter=200)\n",
    "lr_model.fit(x_train, y_train)\n",
    "lr_pred = lr_model.predict(x_test)\n",
    "lr_accuracy = accuracy_score(y_test, lr_pred)\n",
    "print(f\"Logistic Regression Accuracy: {lr_accuracy:.4f}\")"
   ]
  },
  {
   "cell_type": "code",
   "execution_count": null,
   "id": "e5fdf090-c463-499e-8c71-6c7d6ecf7ec4",
   "metadata": {},
   "outputs": [],
   "source": []
  }
 ],
 "metadata": {
  "kernelspec": {
   "display_name": "Python 3 (ipykernel)",
   "language": "python",
   "name": "python3"
  },
  "language_info": {
   "codemirror_mode": {
    "name": "ipython",
    "version": 3
   },
   "file_extension": ".py",
   "mimetype": "text/x-python",
   "name": "python",
   "nbconvert_exporter": "python",
   "pygments_lexer": "ipython3",
   "version": "3.12.7"
  }
 },
 "nbformat": 4,
 "nbformat_minor": 5
}
