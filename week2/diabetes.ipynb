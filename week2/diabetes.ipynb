{
 "cells": [
  {
   "cell_type": "code",
   "execution_count": 20,
   "id": "acef5b25-b3c0-4285-b740-4d5d973ee3f3",
   "metadata": {},
   "outputs": [],
   "source": [
    "import pandas as pd\n",
    "from sklearn.preprocessing import StandardScaler\n",
    "from sklearn.model_selection import train_test_split\n",
    "from sklearn.tree import DecisionTreeClassifier\n",
    "from sklearn.ensemble import RandomForestClassifier\n",
    "from sklearn.svm import SVC\n",
    "from sklearn.linear_model import LogisticRegression\n",
    "from sklearn.neighbors import KNeighborsClassifier\n",
    "from sklearn.metrics import accuracy_score"
   ]
  },
  {
   "cell_type": "code",
   "execution_count": 21,
   "id": "aa28c391-95ac-44a9-ad70-c43dcaf656ba",
   "metadata": {},
   "outputs": [
    {
     "name": "stdout",
     "output_type": "stream",
     "text": [
      "   Pregnancies  Glucose  BloodPressure  SkinThickness  Insulin   BMI  \\\n",
      "0            6      148             72             35        0  33.6   \n",
      "1            1       85             66             29        0  26.6   \n",
      "2            8      183             64              0        0  23.3   \n",
      "3            1       89             66             23       94  28.1   \n",
      "4            0      137             40             35      168  43.1   \n",
      "\n",
      "   DiabetesPedigreeFunction  Age  Outcome  \n",
      "0                     0.627   50        1  \n",
      "1                     0.351   31        0  \n",
      "2                     0.672   32        1  \n",
      "3                     0.167   21        0  \n",
      "4                     2.288   33        1  \n",
      "Index(['Pregnancies', 'Glucose', 'BloodPressure', 'SkinThickness', 'Insulin',\n",
      "       'BMI', 'DiabetesPedigreeFunction', 'Age', 'Outcome'],\n",
      "      dtype='object')\n"
     ]
    }
   ],
   "source": [
    "file_path = \"D:/AI_data/diabetes.csv\"\n",
    "\n",
    "df = pd.read_csv(file_path)\n",
    "print(df.head())\n",
    "print(df.columns)"
   ]
  },
  {
   "cell_type": "code",
   "execution_count": 22,
   "id": "9817487d-70b2-45cf-a98e-8fa01f32fb3d",
   "metadata": {},
   "outputs": [],
   "source": [
    "# 데이터 분할\n",
    "X = df.drop(columns=['Outcome'])\n",
    "y = df['Outcome']\n",
    "X_train, X_test, y_train, y_test = train_test_split(X, y, test_size=0.2, random_state=42)"
   ]
  },
  {
   "cell_type": "code",
   "execution_count": 23,
   "id": "115cdc76-b8e4-42d7-9225-5f5bac55414e",
   "metadata": {},
   "outputs": [],
   "source": [
    "# 데이터 정규화\n",
    "scaler = StandardScaler()\n",
    "X_train = scaler.fit_transform(X_train)\n",
    "X_test = scaler.transform(X_test)"
   ]
  },
  {
   "cell_type": "code",
   "execution_count": 24,
   "id": "cc030061-2775-4d71-b16a-1d3bdc3623e0",
   "metadata": {},
   "outputs": [
    {
     "name": "stdout",
     "output_type": "stream",
     "text": [
      "Decision Tree Accuracy: 0.7532\n",
      "실제 값 (y_test) :\n",
      " 668    0\n",
      "324    0\n",
      "624    0\n",
      "690    0\n",
      "473    0\n",
      "Name: Outcome, dtype: int64\n",
      "예측 값 (dt_pred) :  [0 0 0 0 0]\n"
     ]
    }
   ],
   "source": [
    "# 결정 트리 학습 및 평가\n",
    "dt_model = DecisionTreeClassifier()\n",
    "dt_model.fit(X_train, y_train) # 학습\n",
    "dt_pred = dt_model.predict(X_test) # 예측\n",
    "dt_accuracy = accuracy_score(y_test, dt_pred) # 정답률\n",
    "print(f\"Decision Tree Accuracy: {dt_accuracy:.4f}\")\n",
    "\n",
    "# 비교 (상위 5개 출력)\n",
    "print(\"실제 값 (y_test) :\\n\", y_test[:5])\n",
    "print(\"예측 값 (dt_pred) : \", dt_pred[:5])"
   ]
  },
  {
   "cell_type": "code",
   "execution_count": 25,
   "id": "f217be5c-942a-4ef2-b5b1-a3c96c437fce",
   "metadata": {},
   "outputs": [
    {
     "name": "stdout",
     "output_type": "stream",
     "text": [
      "Random Forest Accuracy: 0.7273\n",
      "실제 값 (y_test) :\n",
      " 668    0\n",
      "324    0\n",
      "624    0\n",
      "690    0\n",
      "473    0\n",
      "Name: Outcome, dtype: int64\n",
      "예측 값 (rf_pred) :  [0 0 0 0 0]\n"
     ]
    }
   ],
   "source": [
    "# 랜덤 포레스트 학습 및 평가\n",
    "rf_model = RandomForestClassifier()\n",
    "rf_model.fit(X_train, y_train)\n",
    "rf_pred = rf_model.predict(X_test)\n",
    "rf_accuracy = accuracy_score(y_test, rf_pred)\n",
    "print(f\"Random Forest Accuracy: {rf_accuracy:.4f}\")\n",
    "\n",
    "# 비교 (상위 5개 출력)\n",
    "print(\"실제 값 (y_test) :\\n\", y_test[:5])\n",
    "print(\"예측 값 (rf_pred) : \", rf_pred[:5])"
   ]
  },
  {
   "cell_type": "code",
   "execution_count": 26,
   "id": "df9581d8-4fec-4278-871b-92530733da41",
   "metadata": {},
   "outputs": [
    {
     "name": "stdout",
     "output_type": "stream",
     "text": [
      "SVM Accuracy: 0.7338\n",
      "실제 값 (y_test) :\n",
      " 668    0\n",
      "324    0\n",
      "624    0\n",
      "690    0\n",
      "473    0\n",
      "Name: Outcome, dtype: int64\n",
      "예측 값 (svm_pred) :  [0 0 0 0 0]\n"
     ]
    }
   ],
   "source": [
    "# SVM 학습 및 평가\n",
    "svm_model = SVC()\n",
    "svm_model.fit(X_train, y_train)\n",
    "svm_pred = svm_model.predict(X_test)\n",
    "svm_accuracy = accuracy_score(y_test, svm_pred)\n",
    "print(f\"SVM Accuracy: {svm_accuracy:.4f}\")\n",
    "\n",
    "# 비교 (상위 5개 출력)\n",
    "print(\"실제 값 (y_test) :\\n\", y_test[:5])\n",
    "print(\"예측 값 (svm_pred) : \", svm_pred[:5])"
   ]
  },
  {
   "cell_type": "code",
   "execution_count": 27,
   "id": "3651c0a7-4a67-479e-8ba9-f13c387509e7",
   "metadata": {},
   "outputs": [
    {
     "name": "stdout",
     "output_type": "stream",
     "text": [
      "Logistic Regression Accuracy: 0.7532\n",
      "실제 값 (y_test) :\n",
      " 668    0\n",
      "324    0\n",
      "624    0\n",
      "690    0\n",
      "473    0\n",
      "Name: Outcome, dtype: int64\n",
      "예측 값 (lr_pred) :  [0 0 0 0 0]\n"
     ]
    }
   ],
   "source": [
    "# 로지스틱 회귀 학습 및 평가\n",
    "lr_model = LogisticRegression(max_iter=200)\n",
    "lr_model.fit(X_train, y_train)\n",
    "lr_pred = lr_model.predict(X_test)\n",
    "lr_accuracy = accuracy_score(y_test, lr_pred)\n",
    "print(f\"Logistic Regression Accuracy: {lr_accuracy:.4f}\")\n",
    "\n",
    "# 비교 (상위 5개 출력)\n",
    "print(\"실제 값 (y_test) :\\n\", y_test[:5])\n",
    "print(\"예측 값 (lr_pred) : \", lr_pred[:5])"
   ]
  },
  {
   "cell_type": "code",
   "execution_count": 28,
   "id": "4fbb7a72-2073-4005-a366-8a4b341373a2",
   "metadata": {},
   "outputs": [
    {
     "name": "stdout",
     "output_type": "stream",
     "text": [
      "KNN Model Accuracy: 0.6948\n",
      "실제 값 (y_test) :\n",
      " 668    0\n",
      "324    0\n",
      "624    0\n",
      "690    0\n",
      "473    0\n",
      "Name: Outcome, dtype: int64\n",
      "예측 값 (lr_pred) :  [0 0 0 0 1]\n"
     ]
    }
   ],
   "source": [
    "# KNN 학습 및 평가\n",
    "knn_model = KNeighborsClassifier(n_neighbors=5)\n",
    "knn_model.fit(X_train, y_train)\n",
    "knn_pred = knn_model.predict(X_test)\n",
    "knn_accuracy = accuracy_score(y_test, knn_pred)\n",
    "print(f\"KNN Model Accuracy: {knn_accuracy:.4f}\")\n",
    "\n",
    "# 비교 (상위 5개 출력)\n",
    "print(\"실제 값 (y_test) :\\n\", y_test[:5])\n",
    "print(\"예측 값 (lr_pred) : \", knn_pred[:5])"
   ]
  }
 ],
 "metadata": {
  "kernelspec": {
   "display_name": "Python 3 (ipykernel)",
   "language": "python",
   "name": "python3"
  },
  "language_info": {
   "codemirror_mode": {
    "name": "ipython",
    "version": 3
   },
   "file_extension": ".py",
   "mimetype": "text/x-python",
   "name": "python",
   "nbconvert_exporter": "python",
   "pygments_lexer": "ipython3",
   "version": "3.12.7"
  }
 },
 "nbformat": 4,
 "nbformat_minor": 5
}
